







<!DOCTYPE html>
<html lang="en">
  <head>
    <meta charset="utf-8">
    <title></title>

    <meta name="viewport" content="width=device-width, initial-scale=1.0">

    
    <meta name="description" content="">
    

    
    <meta name="author" content="">
    

    <!--NEW RELIC Start Perf Measurement-->
    
    <!--NREND-->

    <!-- Le styles -->
    <link href="/static/css/docs.css" rel="stylesheet">
    <link href="/static/components/bootstrap/css/bootstrap.min.css" rel="stylesheet">
    <link href="/static/components/bootstrap/css/bootstrap-responsive.css" rel="stylesheet">
    <link href="/static/components/animate.css/animate.min.css" rel="stylesheet">
    <link href="/static/components/font-awesome/css/font-awesome.min.css" rel="stylesheet">
    <link href="/static/css/nbviewer.css" rel="stylesheet">


    <!-- Le HTML5 shim, for IE6-8 support of HTML5 elements -->
    <!--[if lt IE 9]>
      <script src="http://html5shim.googlecode.com/svn/trunk/html5.js"></script>
    <![endif]-->

    <!-- Le fav and touch icons -->
    <link rel="shortcut icon" href="/static/ico/ipynb_icon_16x16.png">
    <link rel="apple-touch-icon-precomposed" sizes="144x144" href="/static/ico/apple-touch-icon-144-precomposed.png">
    <link rel="apple-touch-icon-precomposed" sizes="114x114" href="/static/ico/apple-touch-icon-114-precomposed.png">
    <link rel="apple-touch-icon-precomposed" sizes="72x72" href="/static/ico/apple-touch-icon-72-precomposed.png">
    <link rel="apple-touch-icon-precomposed" href="/static/ico/apple-touch-icon-57-precomposed.png">
    
    
    

    

    
    <meta name="twitter:card" content="summary">

    
    <meta name="twitter:title" content="Notebook on nbviewer">
    

    
    <meta name="twitter:description" content="Check out this Jupyter notebook!">
    

    
    <meta name="twitter:domain" content="nbviewer.ipython.org">
    

    <meta name="twitter:image:src" content="http://ipython.org/ipython-doc/dev/_images/ipynb_icon_128x128.png">
    
    
    

    <link href="/ipython-static/style/ipython.min.css" rel="stylesheet">
    <link href="/static/components/pygments/css/default.css" rel="stylesheet">
    <style type="text/css" media='screen and (min-width:980px)'>
   
    body {
        padding-top: 40px;
    }

    </style>
    <style type="text/css" >
    .imgwrap {
        text-align: center;
    }

    @media (max-width: 767px){

        div.input, div.output_area {
            -webkit-box-orient: vertical;
            -moz-box-orient: vertical;
            box-orient: vertical;
        }

        div.prompt {
            text-align:left;
        }

    }

    
    </style>
    
    <script src="https://cdn.mathjax.org/mathjax/latest/MathJax.js?config=TeX-AMS_HTML"type="text/javascript">
    </script>
    <script type="text/javascript">
    init_mathjax = function() {
        if (window.MathJax) {
            // MathJax loaded
            MathJax.Hub.Config({
                tex2jax: {
                    inlineMath: [ ['$','$'], ["\\(","\\)"] ],
                    displayMath: [ ['$$','$$'], ["\\[","\\]"] ],
                    processEscapes: true,
                    processEnvironments: true
                },
                displayAlign: 'center',
                "HTML-CSS": {
                    styles: {'.MathJax_Display': {"margin": 0}},
                    linebreaks: { automatic: true }
                }
            });
            MathJax.Hub.Queue(["Typeset",MathJax.Hub]);
        }
    }
    init_mathjax();
    </script>
    
  </head>

  <body data-spy="scroll" data-target=".subnav" data-offset="50">

  <!-- These are loaded at the top of the body so they are available to notebook
  cells when they are loaded below. -->
  <script src="/static/components/jquery/jquery.min.js"></script>
  <script src="/static/components/requirejs/require.js"></script>
  <script src="/static/components/moment/min/moment.min.js"></script>

  <!-- Navbar
  ================================================== -->
    <div id='menubar' class="navbar navbar-fixed-top hidden-print">
      <div class="navbar-inner">
        <div class="container">
          <button type="button" class="btn btn-navbar" data-toggle="collapse" data-target=".nav-collapse">
            <span class="fa fa-bars"></span>
          </button>
          <div class="nav-collapse collapse">
            <ul class="nav">

                <li>
        <a href="/" title="nbviewer" >
            <strong>
            <span>nbviewer</span>
            </strong>
        </a>
    </li>
                <li>
        <a href="/faq" title="FAQ" >
            
            <span>FAQ</span>
            
        </a>
    </li>

              <li class="">
                <a href="http://ipython.org">IPython</a>
              </li>

              <li class="">
                <a href="http://jupyter.org">Jupyter</a>
              </li>

            </ul>
            <ul class="nav pull-right">
              
              
      
        <li>
        <a href="https://github.com/twiecki/financial-analysis-python-tutorial/blob/master/2.%20Pandas%20replication%20of%20Google%20Trends%20paper.ipynb" title="Notebook Home" >
            <span class='fa fa-github fa-2x menu-icon'></span>
            <span class='menu-text'>Notebook Home</span>
        </a>
    </li>
      
        <li>
        <a href="https://raw.githubusercontent.com/twiecki/financial-analysis-python-tutorial/master/2.%20Pandas%20replication%20of%20Google%20Trends%20paper.ipynb" title="Download Notebook" download>
            <span class='fa fa-download fa-2x menu-icon'></span>
            <span class='menu-text'>Download Notebook</span>
        </a>
    </li>
    
            </ul>
          </div>
        </div>
      </div>
    </div>
    <div class="container">

     
    
<ul class="breadcrumb">
    
    <li><a href="/github/twiecki/financial-analysis-python-tutorial/tree/master">financial-analysis-python-tutorial</a> <span class="divider">/</span></li>
    
    <li><a href="/github/twiecki/financial-analysis-python-tutorial/tree/master/2. Pandas replication of Google Trends paper.ipynb">2. Pandas replication of Google Trends paper.ipynb</a> <span class="divider">/</span></li>
    
</ul>

    
<div class="cell border-box-sizing text_cell rendered">
<div class="prompt input_prompt">
</div>
<div class="inner_cell">
<div class="text_cell_render border-box-sizing rendered_html">
<h1 id="reproduction-quantifying-trading-behavior-in-financial-markets-using-google-trends-http-www-nature-com-srep-2013-130425-srep01684-pdf-srep01684-pdf-">Reproduction <a href="http://www.nature.com/srep/2013/130425/srep01684/pdf/srep01684.pdf">Quantifying Trading Behavior in Financial Markets Using Google Trends</a></h1>
</div>
</div>
</div>
<div class="cell border-box-sizing text_cell rendered">
<div class="prompt input_prompt">
</div>
<div class="inner_cell">
<div class="text_cell_render border-box-sizing rendered_html">
<p>The first part of this tutorial covered the basics of <code>Pandas</code> and how to use it for analyzing financial data.</p>
<p>In the second part we will reiterate these concepts by applying them to reproduce a paper published recently on using Google Trends search volume for specific terms (e.g. &#39;debt&#39;) to predict market movements. Several cells are left blank for you to fill in.</p>
<p>In addition, we will see how we can test an actual trading strategy using <code>Pandas</code> and calculate its performance.</p>
</div>
</div>
</div>
<div class="cell border-box-sizing code_cell rendered">
<div class="input">
<div class="prompt input_prompt">In&nbsp;[1]:</div>
<div class="inner_cell">
    <div class="input_area">
<div class="highlight"><pre><span class="kn">from</span> <span class="nn">IPython.core.display</span> <span class="kn">import</span> <span class="n">HTML</span>
<span class="n">HTML</span><span class="p">(</span><span class="s">&quot;&lt;iframe src=http://www.nature.com/srep/2013/130425/srep01684/full/srep01684.html width=900 height=400&gt;&lt;/iframe&gt;&quot;</span><span class="p">)</span>
</pre></div>

</div>
</div>
</div>

<div class="output_wrapper">
<div class="output">


<div class="output_area"><div class="prompt output_prompt">Out[1]:</div>

<div class="output_html rendered_html output_subarea output_pyout">
<iframe src=http://www.nature.com/srep/2013/130425/srep01684/full/srep01684.html width=900 height=400></iframe>
</div>

</div>

</div>
</div>

</div>
<div class="cell border-box-sizing code_cell rendered">
<div class="input">
<div class="prompt input_prompt">In&nbsp;[2]:</div>
<div class="inner_cell">
    <div class="input_area">
<div class="highlight"><pre><span class="kn">import</span> <span class="nn">pandas</span> <span class="kn">as</span> <span class="nn">pd</span>

<span class="kn">import</span> <span class="nn">matplotlib.pyplot</span> <span class="kn">as</span> <span class="nn">plt</span>
<span class="kn">import</span> <span class="nn">matplotlib</span> <span class="kn">as</span> <span class="nn">mpl</span>
<span class="n">mpl</span><span class="o">.</span><span class="n">rc</span><span class="p">(</span><span class="s">&#39;figure&#39;</span><span class="p">,</span> <span class="n">figsize</span><span class="o">=</span><span class="p">(</span><span class="mi">8</span><span class="p">,</span> <span class="mi">7</span><span class="p">))</span>
</pre></div>

</div>
</div>
</div>

</div>
<div class="cell border-box-sizing text_cell rendered">
<div class="prompt input_prompt">
</div>
<div class="inner_cell">
<div class="text_cell_render border-box-sizing rendered_html">
<p>Tobias Preis was kind enough to provide me with the data used in this publication. There are many Google Trends search words but here we will only be using &#39;debt&#39;.</p>
</div>
</div>
</div>
<div class="cell border-box-sizing code_cell rendered">
<div class="input">
<div class="prompt input_prompt">In&nbsp;[3]:</div>
<div class="inner_cell">
    <div class="input_area">
<div class="highlight"><pre><span class="n">data</span> <span class="o">=</span> <span class="n">pd</span><span class="o">.</span><span class="n">read_csv</span><span class="p">(</span><span class="s">&#39;data/GoogleTrendsData.csv&#39;</span><span class="p">,</span> <span class="n">index_col</span><span class="o">=</span><span class="s">&#39;Date&#39;</span><span class="p">,</span> <span class="n">parse_dates</span><span class="o">=</span><span class="bp">True</span><span class="p">)</span>
<span class="n">data</span><span class="o">.</span><span class="n">head</span><span class="p">()</span>
</pre></div>

</div>
</div>
</div>

<div class="output_wrapper">
<div class="output">


<div class="output_area"><div class="prompt output_prompt">Out[3]:</div>

<div class="output_html rendered_html output_subarea output_pyout">
<div style="max-height:1000px;max-width:1500px;overflow:auto;">
<table border="1" class="dataframe">
  <thead>
    <tr style="text-align: right;">
      <th></th>
      <th>djia</th>
      <th>debt</th>
    </tr>
    <tr>
      <th>Date</th>
      <th></th>
      <th></th>
    </tr>
  </thead>
  <tbody>
    <tr>
      <th>2004-01-14</th>
      <td> 10485.18</td>
      <td> 0.210000</td>
    </tr>
    <tr>
      <th>2004-01-22</th>
      <td> 10528.66</td>
      <td> 0.210000</td>
    </tr>
    <tr>
      <th>2004-01-28</th>
      <td> 10702.51</td>
      <td> 0.210000</td>
    </tr>
    <tr>
      <th>2004-02-04</th>
      <td> 10499.18</td>
      <td> 0.213333</td>
    </tr>
    <tr>
      <th>2004-02-11</th>
      <td> 10579.03</td>
      <td> 0.200000</td>
    </tr>
  </tbody>
</table>
</div>
</div>

</div>

</div>
</div>

</div>
<div class="cell border-box-sizing code_cell rendered">
<div class="input">
<div class="prompt input_prompt">In&nbsp;[4]:</div>
<div class="inner_cell">
    <div class="input_area">
<div class="highlight"><pre><span class="n">data</span><span class="o">.</span><span class="n">plot</span><span class="p">(</span><span class="n">subplots</span><span class="o">=</span><span class="bp">True</span><span class="p">)</span>
</pre></div>

</div>
</div>
</div>

<div class="output_wrapper">
<div class="output">


<div class="output_area"><div class="prompt output_prompt">Out[4]:</div>


<div class="output_text output_subarea output_pyout">
<pre>
array([&lt;matplotlib.axes.AxesSubplot object at 0xac0794c&gt;,
       &lt;matplotlib.axes.AxesSubplot object at 0xac7f14c&gt;], dtype=object)
</pre>
</div>

</div>

<div class="output_area"><div class="prompt"></div>


<div class="output_png output_subarea ">
<img src="data:image/png;base64,iVBORw0KGgoAAAANSUhEUgAAAe4AAAGXCAYAAAB1OrNfAAAABHNCSVQICAgIfAhkiAAAAAlwSFlz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"
>
</div>

</div>

</div>
</div>

</div>
<div class="cell border-box-sizing text_cell rendered">
<div class="prompt input_prompt">
</div>
<div class="inner_cell">
<div class="text_cell_render border-box-sizing rendered_html">
<p>The authors detect if search volume is relatively increasing or decreasing in any given week by forming a moving average and testing if the current value crosses the moving average of the past 3 weeks. </p>
<p>Lets first compute the moving average.</p>
</div>
</div>
</div>
<div class="cell border-box-sizing code_cell rendered">
<div class="input">
<div class="prompt input_prompt">In&nbsp;[5]:</div>
<div class="inner_cell">
    <div class="input_area">
<div class="highlight"><pre><span class="n">data</span><span class="p">[</span><span class="s">&#39;debt_mavg&#39;</span><span class="p">]</span> <span class="o">=</span> <span class="n">pd</span><span class="o">.</span><span class="n">rolling_mean</span><span class="p">(</span><span class="n">data</span><span class="o">.</span><span class="n">debt</span><span class="p">,</span> <span class="mi">3</span><span class="p">)</span>
<span class="n">data</span><span class="o">.</span><span class="n">head</span><span class="p">()</span>
</pre></div>

</div>
</div>
</div>

<div class="output_wrapper">
<div class="output">


<div class="output_area"><div class="prompt output_prompt">Out[5]:</div>

<div class="output_html rendered_html output_subarea output_pyout">
<div style="max-height:1000px;max-width:1500px;overflow:auto;">
<table border="1" class="dataframe">
  <thead>
    <tr style="text-align: right;">
      <th></th>
      <th>djia</th>
      <th>debt</th>
      <th>debt_mavg</th>
    </tr>
    <tr>
      <th>Date</th>
      <th></th>
      <th></th>
      <th></th>
    </tr>
  </thead>
  <tbody>
    <tr>
      <th>2004-01-14</th>
      <td> 10485.18</td>
      <td> 0.210000</td>
      <td>      NaN</td>
    </tr>
    <tr>
      <th>2004-01-22</th>
      <td> 10528.66</td>
      <td> 0.210000</td>
      <td>      NaN</td>
    </tr>
    <tr>
      <th>2004-01-28</th>
      <td> 10702.51</td>
      <td> 0.210000</td>
      <td> 0.210000</td>
    </tr>
    <tr>
      <th>2004-02-04</th>
      <td> 10499.18</td>
      <td> 0.213333</td>
      <td> 0.211111</td>
    </tr>
    <tr>
      <th>2004-02-11</th>
      <td> 10579.03</td>
      <td> 0.200000</td>
      <td> 0.207778</td>
    </tr>
  </tbody>
</table>
</div>
</div>

</div>

</div>
</div>

</div>
<div class="cell border-box-sizing text_cell rendered">
<div class="prompt input_prompt">
</div>
<div class="inner_cell">
<div class="text_cell_render border-box-sizing rendered_html">
<p>Since we want to see if the current value is above the moving average of the <em>preceeding</em> weeks, we have to shift the moving average timeseries forward by one.</p>
</div>
</div>
</div>
<div class="cell border-box-sizing code_cell rendered">
<div class="input">
<div class="prompt input_prompt">In&nbsp;[6]:</div>
<div class="inner_cell">
    <div class="input_area">
<div class="highlight"><pre><span class="n">data</span><span class="p">[</span><span class="s">&#39;debt_mavg&#39;</span><span class="p">]</span> <span class="o">=</span> <span class="n">data</span><span class="o">.</span><span class="n">debt_mavg</span><span class="o">.</span><span class="n">shift</span><span class="p">(</span><span class="mi">1</span><span class="p">)</span>
<span class="n">data</span><span class="o">.</span><span class="n">head</span><span class="p">(</span><span class="mi">10</span><span class="p">)</span>
</pre></div>

</div>
</div>
</div>

<div class="output_wrapper">
<div class="output">


<div class="output_area"><div class="prompt output_prompt">Out[6]:</div>

<div class="output_html rendered_html output_subarea output_pyout">
<div style="max-height:1000px;max-width:1500px;overflow:auto;">
<table border="1" class="dataframe">
  <thead>
    <tr style="text-align: right;">
      <th></th>
      <th>djia</th>
      <th>debt</th>
      <th>debt_mavg</th>
    </tr>
    <tr>
      <th>Date</th>
      <th></th>
      <th></th>
      <th></th>
    </tr>
  </thead>
  <tbody>
    <tr>
      <th>2004-01-14</th>
      <td> 10485.18</td>
      <td> 0.210000</td>
      <td>      NaN</td>
    </tr>
    <tr>
      <th>2004-01-22</th>
      <td> 10528.66</td>
      <td> 0.210000</td>
      <td>      NaN</td>
    </tr>
    <tr>
      <th>2004-01-28</th>
      <td> 10702.51</td>
      <td> 0.210000</td>
      <td>      NaN</td>
    </tr>
    <tr>
      <th>2004-02-04</th>
      <td> 10499.18</td>
      <td> 0.213333</td>
      <td> 0.210000</td>
    </tr>
    <tr>
      <th>2004-02-11</th>
      <td> 10579.03</td>
      <td> 0.200000</td>
      <td> 0.211111</td>
    </tr>
    <tr>
      <th>2004-02-19</th>
      <td> 10714.88</td>
      <td> 0.203333</td>
      <td> 0.207778</td>
    </tr>
    <tr>
      <th>2004-02-25</th>
      <td> 10609.62</td>
      <td> 0.200000</td>
      <td> 0.205555</td>
    </tr>
    <tr>
      <th>2004-03-03</th>
      <td> 10678.14</td>
      <td> 0.200000</td>
      <td> 0.201111</td>
    </tr>
    <tr>
      <th>2004-03-10</th>
      <td> 10529.48</td>
      <td> 0.196667</td>
      <td> 0.201111</td>
    </tr>
    <tr>
      <th>2004-03-17</th>
      <td> 10102.89</td>
      <td> 0.196667</td>
      <td> 0.198889</td>
    </tr>
  </tbody>
</table>
</div>
</div>

</div>

</div>
</div>

</div>
<div class="cell border-box-sizing text_cell rendered">
<div class="prompt input_prompt">
</div>
<div class="inner_cell">
<div class="text_cell_render border-box-sizing rendered_html">
<h1 id="generate-the-order-signals-">Generate the order signals.</h1>
<p>From the paper:</p>
<p>&quot;We use Google Trends to determine how many searches n(t – 1) have been carried out for a specific search term such as debt in week t – 1, where Google defines weeks as ending on a Sunday, relative to the total number of searches carried out on Google during that time.&quot;</p>
<p>and</p>
<p>&quot;We implement this strategy by selling the DJIA at the closing price p(t) on the first trading day of week t, if Δn(t − 1, Δt) &gt; 0, and buying the DJIA at price p(t + 1) at the end of the first trading day of the following week. [...]. If instead Δn(t − 1, Δt) &lt; 0, then we buy the DJIA at the closing price p(t) on the first trading day of week t and sell the DJIA at price p(t + 1) at the end of the first trading day of the coming week.&quot;</p>
</div>
</div>
</div>
<div class="cell border-box-sizing code_cell rendered">
<div class="input">
<div class="prompt input_prompt">In&nbsp;[7]:</div>
<div class="inner_cell">
    <div class="input_area">
<div class="highlight"><pre><span class="n">data</span><span class="p">[</span><span class="s">&#39;order&#39;</span><span class="p">]</span> <span class="o">=</span> <span class="mi">0</span>
<span class="n">data</span><span class="p">[</span><span class="s">&#39;order&#39;</span><span class="p">][</span><span class="n">data</span><span class="o">.</span><span class="n">debt</span> <span class="o">&gt;</span> <span class="n">data</span><span class="o">.</span><span class="n">debt_mavg</span><span class="p">]</span> <span class="o">=</span> <span class="o">-</span><span class="mi">1</span> <span class="c"># Short if search volume goes up relative to mavg.</span>
<span class="n">data</span><span class="p">[</span><span class="s">&#39;order&#39;</span><span class="p">][</span><span class="n">data</span><span class="o">.</span><span class="n">debt</span> <span class="o">&lt;</span> <span class="n">data</span><span class="o">.</span><span class="n">debt_mavg</span><span class="p">]</span> <span class="o">=</span> <span class="mi">1</span> <span class="c"># Long if search volume goes down relative to mavg.</span>
<span class="n">data</span><span class="o">.</span><span class="n">head</span><span class="p">(</span><span class="mi">10</span><span class="p">)</span>
</pre></div>

</div>
</div>
</div>

<div class="output_wrapper">
<div class="output">


<div class="output_area"><div class="prompt output_prompt">Out[7]:</div>

<div class="output_html rendered_html output_subarea output_pyout">
<div style="max-height:1000px;max-width:1500px;overflow:auto;">
<table border="1" class="dataframe">
  <thead>
    <tr style="text-align: right;">
      <th></th>
      <th>djia</th>
      <th>debt</th>
      <th>debt_mavg</th>
      <th>order</th>
    </tr>
    <tr>
      <th>Date</th>
      <th></th>
      <th></th>
      <th></th>
      <th></th>
    </tr>
  </thead>
  <tbody>
    <tr>
      <th>2004-01-14</th>
      <td> 10485.18</td>
      <td> 0.210000</td>
      <td>      NaN</td>
      <td> 0</td>
    </tr>
    <tr>
      <th>2004-01-22</th>
      <td> 10528.66</td>
      <td> 0.210000</td>
      <td>      NaN</td>
      <td> 0</td>
    </tr>
    <tr>
      <th>2004-01-28</th>
      <td> 10702.51</td>
      <td> 0.210000</td>
      <td>      NaN</td>
      <td> 0</td>
    </tr>
    <tr>
      <th>2004-02-04</th>
      <td> 10499.18</td>
      <td> 0.213333</td>
      <td> 0.210000</td>
      <td>-1</td>
    </tr>
    <tr>
      <th>2004-02-11</th>
      <td> 10579.03</td>
      <td> 0.200000</td>
      <td> 0.211111</td>
      <td> 1</td>
    </tr>
    <tr>
      <th>2004-02-19</th>
      <td> 10714.88</td>
      <td> 0.203333</td>
      <td> 0.207778</td>
      <td> 1</td>
    </tr>
    <tr>
      <th>2004-02-25</th>
      <td> 10609.62</td>
      <td> 0.200000</td>
      <td> 0.205555</td>
      <td> 1</td>
    </tr>
    <tr>
      <th>2004-03-03</th>
      <td> 10678.14</td>
      <td> 0.200000</td>
      <td> 0.201111</td>
      <td> 1</td>
    </tr>
    <tr>
      <th>2004-03-10</th>
      <td> 10529.48</td>
      <td> 0.196667</td>
      <td> 0.201111</td>
      <td> 1</td>
    </tr>
    <tr>
      <th>2004-03-17</th>
      <td> 10102.89</td>
      <td> 0.196667</td>
      <td> 0.198889</td>
      <td> 1</td>
    </tr>
  </tbody>
</table>
</div>
</div>

</div>

</div>
</div>

</div>
<div class="cell border-box-sizing text_cell rendered">
<div class="prompt input_prompt">
</div>
<div class="inner_cell">
<div class="text_cell_render border-box-sizing rendered_html">
<h1 id="compute-returns">Compute returns</h1>
</div>
</div>
</div>
<div class="cell border-box-sizing code_cell rendered">
<div class="input">
<div class="prompt input_prompt">In&nbsp;[8]:</div>
<div class="inner_cell">
    <div class="input_area">
<div class="highlight"><pre><span class="n">data</span><span class="p">[</span><span class="s">&#39;ret_djia&#39;</span><span class="p">]</span> <span class="o">=</span> <span class="n">data</span><span class="o">.</span><span class="n">djia</span><span class="o">.</span><span class="n">pct_change</span><span class="p">()</span>
<span class="n">data</span><span class="o">.</span><span class="n">head</span><span class="p">()</span>
</pre></div>

</div>
</div>
</div>

<div class="output_wrapper">
<div class="output">


<div class="output_area"><div class="prompt output_prompt">Out[8]:</div>

<div class="output_html rendered_html output_subarea output_pyout">
<div style="max-height:1000px;max-width:1500px;overflow:auto;">
<table border="1" class="dataframe">
  <thead>
    <tr style="text-align: right;">
      <th></th>
      <th>djia</th>
      <th>debt</th>
      <th>debt_mavg</th>
      <th>order</th>
      <th>ret_djia</th>
    </tr>
    <tr>
      <th>Date</th>
      <th></th>
      <th></th>
      <th></th>
      <th></th>
      <th></th>
    </tr>
  </thead>
  <tbody>
    <tr>
      <th>2004-01-14</th>
      <td> 10485.18</td>
      <td> 0.210000</td>
      <td>      NaN</td>
      <td> 0</td>
      <td>      NaN</td>
    </tr>
    <tr>
      <th>2004-01-22</th>
      <td> 10528.66</td>
      <td> 0.210000</td>
      <td>      NaN</td>
      <td> 0</td>
      <td> 0.004147</td>
    </tr>
    <tr>
      <th>2004-01-28</th>
      <td> 10702.51</td>
      <td> 0.210000</td>
      <td>      NaN</td>
      <td> 0</td>
      <td> 0.016512</td>
    </tr>
    <tr>
      <th>2004-02-04</th>
      <td> 10499.18</td>
      <td> 0.213333</td>
      <td> 0.210000</td>
      <td>-1</td>
      <td>-0.018998</td>
    </tr>
    <tr>
      <th>2004-02-11</th>
      <td> 10579.03</td>
      <td> 0.200000</td>
      <td> 0.211111</td>
      <td> 1</td>
      <td> 0.007605</td>
    </tr>
  </tbody>
</table>
</div>
</div>

</div>

</div>
</div>

</div>
<div class="cell border-box-sizing text_cell rendered">
<div class="prompt input_prompt">
</div>
<div class="inner_cell">
<div class="text_cell_render border-box-sizing rendered_html">
<p>Returns at week <code>t</code> are relative to week <code>t-1</code>. However, we are buying at week <code>t</code> and selling at week <code>t+1</code>, so we have to adjust by shifting the returns upward.</p>
</div>
</div>
</div>
<div class="cell border-box-sizing code_cell rendered">
<div class="input">
<div class="prompt input_prompt">In&nbsp;[9]:</div>
<div class="inner_cell">
    <div class="input_area">
<div class="highlight"><pre><span class="n">data</span><span class="p">[</span><span class="s">&#39;ret_djia&#39;</span><span class="p">]</span> <span class="o">=</span> <span class="n">data</span><span class="p">[</span><span class="s">&#39;ret_djia&#39;</span><span class="p">]</span><span class="o">.</span><span class="n">shift</span><span class="p">(</span><span class="o">-</span><span class="mi">1</span><span class="p">)</span>
</pre></div>

</div>
</div>
</div>

</div>
<div class="cell border-box-sizing text_cell rendered">
<div class="prompt input_prompt">
</div>
<div class="inner_cell">
<div class="text_cell_render border-box-sizing rendered_html">
<p>The algorithm that is used by the authors makes a decision every Monday of whether to long or short the Dow Jones. After this week passed, we exit all positions (sell if we longed, buy if we shorted) and make a new trading decision.</p>
<p>The <code>ret</code> column contains the weekly returns. Thus, if we buy at week <code>t</code> sell at week <code>t+1</code> we make the returns of week <code>t+1</code>. Conversely, if we short at week <code>t</code> and buy back at week <code>t+1</code> we make the negative returns of week <code>t+1</code>.</p>
</div>
</div>
</div>
<div class="cell border-box-sizing code_cell rendered">
<div class="input">
<div class="prompt input_prompt">In&nbsp;[10]:</div>
<div class="inner_cell">
    <div class="input_area">
<div class="highlight"><pre><span class="c"># Compute returns of our strategy</span>
<span class="n">data</span><span class="p">[</span><span class="s">&#39;ret_google&#39;</span><span class="p">]</span> <span class="o">=</span> <span class="n">data</span><span class="o">.</span><span class="n">order</span> <span class="o">*</span> <span class="n">data</span><span class="o">.</span><span class="n">ret_djia</span>
<span class="n">data</span><span class="o">.</span><span class="n">head</span><span class="p">(</span><span class="mi">10</span><span class="p">)</span>
</pre></div>

</div>
</div>
</div>

<div class="output_wrapper">
<div class="output">


<div class="output_area"><div class="prompt output_prompt">Out[10]:</div>

<div class="output_html rendered_html output_subarea output_pyout">
<div style="max-height:1000px;max-width:1500px;overflow:auto;">
<table border="1" class="dataframe">
  <thead>
    <tr style="text-align: right;">
      <th></th>
      <th>djia</th>
      <th>debt</th>
      <th>debt_mavg</th>
      <th>order</th>
      <th>ret_djia</th>
      <th>ret_google</th>
    </tr>
    <tr>
      <th>Date</th>
      <th></th>
      <th></th>
      <th></th>
      <th></th>
      <th></th>
      <th></th>
    </tr>
  </thead>
  <tbody>
    <tr>
      <th>2004-01-14</th>
      <td> 10485.18</td>
      <td> 0.210000</td>
      <td>      NaN</td>
      <td> 0</td>
      <td> 0.004147</td>
      <td> 0.000000</td>
    </tr>
    <tr>
      <th>2004-01-22</th>
      <td> 10528.66</td>
      <td> 0.210000</td>
      <td>      NaN</td>
      <td> 0</td>
      <td> 0.016512</td>
      <td> 0.000000</td>
    </tr>
    <tr>
      <th>2004-01-28</th>
      <td> 10702.51</td>
      <td> 0.210000</td>
      <td>      NaN</td>
      <td> 0</td>
      <td>-0.018998</td>
      <td>-0.000000</td>
    </tr>
    <tr>
      <th>2004-02-04</th>
      <td> 10499.18</td>
      <td> 0.213333</td>
      <td> 0.210000</td>
      <td>-1</td>
      <td> 0.007605</td>
      <td>-0.007605</td>
    </tr>
    <tr>
      <th>2004-02-11</th>
      <td> 10579.03</td>
      <td> 0.200000</td>
      <td> 0.211111</td>
      <td> 1</td>
      <td> 0.012841</td>
      <td> 0.012841</td>
    </tr>
    <tr>
      <th>2004-02-19</th>
      <td> 10714.88</td>
      <td> 0.203333</td>
      <td> 0.207778</td>
      <td> 1</td>
      <td>-0.009824</td>
      <td>-0.009824</td>
    </tr>
    <tr>
      <th>2004-02-25</th>
      <td> 10609.62</td>
      <td> 0.200000</td>
      <td> 0.205555</td>
      <td> 1</td>
      <td> 0.006458</td>
      <td> 0.006458</td>
    </tr>
    <tr>
      <th>2004-03-03</th>
      <td> 10678.14</td>
      <td> 0.200000</td>
      <td> 0.201111</td>
      <td> 1</td>
      <td>-0.013922</td>
      <td>-0.013922</td>
    </tr>
    <tr>
      <th>2004-03-10</th>
      <td> 10529.48</td>
      <td> 0.196667</td>
      <td> 0.201111</td>
      <td> 1</td>
      <td>-0.040514</td>
      <td>-0.040514</td>
    </tr>
    <tr>
      <th>2004-03-17</th>
      <td> 10102.89</td>
      <td> 0.196667</td>
      <td> 0.198889</td>
      <td> 1</td>
      <td>-0.003775</td>
      <td>-0.003775</td>
    </tr>
  </tbody>
</table>
</div>
</div>

</div>

</div>
</div>

</div>
<div class="cell border-box-sizing text_cell rendered">
<div class="prompt input_prompt">
</div>
<div class="inner_cell">
<div class="text_cell_render border-box-sizing rendered_html">
<p>Now we just have to compound the returns. As we are reinvesting our earns, returns actually do not compound by summing them up but by taking their cumulative product:</p>
<p>$$i_t = (i_{t-1} + i_{t-1} \cdot r_t) = (1 + r_t) \cdot i_{t-1}, \quad i_0 = 1$$</p>
</div>
</div>
</div>
<div class="cell border-box-sizing code_cell rendered">
<div class="input">
<div class="prompt input_prompt">In&nbsp;[11]:</div>
<div class="inner_cell">
    <div class="input_area">
<div class="highlight"><pre><span class="n">plt</span><span class="o">.</span><span class="n">figsize</span><span class="p">(</span><span class="mi">10</span><span class="p">,</span> <span class="mi">3</span><span class="p">)</span>
<span class="p">(</span><span class="mi">1</span> <span class="o">+</span> <span class="n">data</span><span class="o">.</span><span class="n">ret_google</span><span class="p">)</span><span class="o">.</span><span class="n">cumprod</span><span class="p">()</span><span class="o">.</span><span class="n">plot</span><span class="p">();</span>
<span class="n">plt</span><span class="o">.</span><span class="n">ylabel</span><span class="p">(</span><span class="s">&#39;Portfolio value&#39;</span><span class="p">)</span>
</pre></div>

</div>
</div>
</div>

<div class="output_wrapper">
<div class="output">


<div class="output_area"><div class="prompt output_prompt">Out[11]:</div>


<div class="output_text output_subarea output_pyout">
<pre>
&lt;matplotlib.text.Text at 0xae19f6c&gt;
</pre>
</div>

</div>

<div class="output_area"><div class="prompt"></div>


<div class="output_png output_subarea ">
<img src="data:image/png;base64,iVBORw0KGgoAAAANSUhEUgAAAlwAAADNCAYAAABtua5/AAAABHNCSVQICAgIfAhkiAAAAAlwSFlz
AAALEgAACxIB0t1+/AAAIABJREFUeJzt3XlYVGX7B/DvAG6YCW6oiJGKKYqAaGiSYFLu5pKZlfuC
lpq9mVaay0+z923RTNI0l8SyUjNzATWVITfUEJPcwIVYclcURWV7fn/cgSD7YYZh4Pu5Li45Z87M
3HN3cm6f5z7P0SmlFIiIiIjIaCxMHQARERFRWceCi4iIiMjIWHARERERGRkLLiIiIiIjY8FFRERE
ZGQsuIiIiIiMzGgFV1paGtzd3dGrV69cH584cSKcnJzg6uqK8PBwY4VBREREZHJGK7gWLlwIZ2dn
6HS6HI8FBgbi7NmziIqKwrJlyzBu3DhjhUFERERkckYpuOLi4hAYGIhRo0Yht3VVN2/ejKFDhwIA
PD09kZCQgMuXLxsjFCIiIiKTM0rB9fbbb+PTTz+FhUXuLx8fHw8HB4fM7QYNGiAuLs4YoRARERGZ
nJWhX3Dr1q2oU6cO3N3dodfr8zzu0ZGv3KYec9tHREREVFrldcdEg49wHThwAJs3b8aTTz6JQYMG
Yc+ePRgyZEi2Y+zt7REbG5u5HRcXB3t7+1xfTynFn0L+zJw50+QxmOMP88a8MW/m8cPcMW+lPW/5
MXjBNW/ePMTGxuLChQv48ccf8dxzzyEgICDbMb17987cFxoaChsbG9jZ2Rk6lHInOjra1CGYJeZN
G+ZNG+ZNO+ZOG+ZNG0PnzeBTio/KmBZcunQpAMDPzw/du3dHYGAgmjRpgqpVq2LVqlXGDoOIiIjI
ZHSqoDEwE9LpdAUO0dFDer0ePj4+pg7D7DBv2jBv2jBv2jF32jBv2mjJW351CwsuIiIiIgPIr27h
rX3KkPyuCqW8MW/aMG/aMG/aMXfaMG/aGDpvLLiIiIjI7Ny8CVy5Ir9fugRcu2baeArCKUUiIiIy
uR07gMRE4KWXCnf8kCHAL78Ar7wC/PAD0LMn8OOPxo2xIJxSJCIiolLtq6+AYcOAv/8u+Njr14HN
m4Fdu4BatYDdu4Ht22XUq7RiwVWGcJ5eG+ZNG+ZNG+ZNO+ZOG3PIW2oq8PvvwKhRMnK1bBlw9mze
xwcEAD16AJ6ewMcfy59dushIV3EpBezZA2zcqC/+i2XBgouIiIgMQq8H9u0r+vPCwgAHB+DTT4Fn
ngHWrQPmzs392ORkwN8fGDcu+/4RI4BVq6RgKqwjR4C0tOz7ZswAhg8Hhg4FPvqoaJ8jP+zhIiIi
omK7fh1o3hzo1g1Yvbpoz/34Y+DyZeCLL2T79Gmga1cgt8XeFy6Ufq/AwOz709IAd3dgwgRg9OiC
3/PcOaBJE6BNG+DLL+XPDz8Efv1VRtuSk4FWrYA//wQaNCjc58ivbjH6SvNERERU9r3zjhRcx48X
/jmHDwNTpwK3bgGzZz/c/9RTwIMHwIULwJNPPtyfkADMmyc9W4+ytATWrwe8vABra4llyxaZbuza
NefxP/0ko2RPPw28+ipw9y7Qtq2M0tWuLceMGQPMnAmsWFH4z5QXTimWIeYwT18aMW/aMG/aMG/a
MXfalETe/vlHmtjXrQPOnJGerMLYtk0KndhYoGPHh/t1OsDHR4qfrPz9pXerZcvcX++pp4Dvvwe+
+w4YNEhGp2bMkMfOnQPee0+Kq6tX5YrGQYOkUT8qCggKArZuBTJu7azX6zF1qjTjb9wIpKdLPFon
3lhwERERUbFs2yZN63Z2gL29FDCFsX+/jCBduQJUr579sdwKrk2bpKk+Py+8IMXTmTMy4hUfD5w4
Abz+OnD7trxPp07AjRtAhw7yHCsrwMNDCr2sbGxklGzsWFl2olMnGZXTgj1cRERElC+lshcj27dL
keLrK9svvggMHCijR/36ye8DB+b/mikpQI0aQEwMYGub8/EzZ6Tomj5dirmqVQFnZynOKlQofOxT
p8ryEWlpwNGjsu+114BGjQrfFL97t4zeOTgAkZFyleStWzmLRN5LkYiIiDTZtw8YMACYNQvo2xdY
tAj49lvpsVq7VkaJ7Oykwb1GDTkuNTX7VYYZX+VZi7Y//pCrASMicn9fpWQ68Px5mRocP15GvIq6
uOnJk0CLFlIkdumS/fUfHdEqyI0bQOPGwKRJwJw58tm7d5fXee01oEGDEl749P79+/D09ISbmxuc
nZ3x/vvv5zhGr9ejevXqcHd3h7u7O+bmdf0nFRr7G7Rh3rRh3rRh3rRj7rQpTt7CwmTE6v/+D1iy
BHBykvWxjhwBfv5ZVnl/+WXAzU2KLQBwccnZOP/JJ8AHH2Tft3//wym93Oh0UtR89x1Qv76MVPXs
WfTP4Ows8b7wQs7Xz09ueatRQ1bC/+EHGYEbO1auzrx2TUbs8mOUqxQrV66M4OBgWFtbIzU1FV5e
Xti3bx+8vLyyHeft7Y3NmzcbIwQiIiIqhoQEKS6WLAH69wdGjpRpuYzpvLp1pbCaPx9o1+7h81q1
kv1ZR5B27ADCw2XEqkoV2bdvn0xFFkSnk1E1L6/crzYsjDZttD0vN19+KZ/N2lpGuwYNKtzzjD6l
mJSUBG9vb6xevRrOzs6Z+/V6PT7//HNs2bIl7+A4pUhERGQUhw7JlXft2+d8LC1NerDq15cCoyjS
0oDWraXHa9EiWXbB1lauLHzzTWleV0pe++BBwNGxcK+bmiqvWZqZZB2u9PR0tG7dGufOncO4ceOy
FVsZQR04cACurq6wt7fHZ599luMYABg2bBgc//2vYWNjAzc3N/j4+AB4ONzHbW5zm9vc5ja3i7Y9
aRLQsKEPNm/O/vidO0CXLnokJQHffVf017e0BBYs0GPHDmDoUB989x1Qq5Ye3boB33zjg9dfB9as
0SM9HXjiidKTDy3bGb9H57ZC66OUkSUkJChPT08VHBycbf/t27fV3bt3lVJKBQYGKicnpxzPLYHw
ypRHc0yFw7xpw7xpw7xpx9xpk1vezp9XytZWqccfVyo5+eH+9HSlevdWavBgpR48KP57v/CCUm5u
So0eLe9Tu7ZS584p5e+v1IgRxX99Y9JyvuVXt1gUXJIVT/Xq1dGjRw/88ccf2fZXq1YN1tbWAIBu
3bohJSUFN27cMHY4RERE5V5AgEztNWkChIY+3L9sGRAXByxfDlSsWPz3+d//5ArDZ56R3q/+/WV5
hV27gM6di//65sQoPVzXrl2DlZUVbGxscO/ePXTp0gUzZ85E5yzZvXz5MurUqQOdTofDhw/j5Zdf
zjEkxx4uIiIiw7l7F1i8WO5ZuHkzsGGDFEKdOgHvviu30tm/H2jWzHDvuWoV0Ls3ULMmEBIiyzvE
xcn9EjNWdS8rSryH6+LFixg6dCjS09ORnp6OwYMHo3Pnzli6dCkAwM/PDxs2bMCSJUtgZWUFa2tr
/FjUhTWIiIioSNauldXXP/lEGttv3wYGDwa+/hr45htZp6pyZcO+5/DhD3/38pK1rBo0KHvFVkG4
8GkZotfrMxv6qPCYN22YN22YN+2YO22y5u2114DnnpMlHgBZvNTXF/j8c7masCS89578+d//lsz7
aaXlfDPJVYpERERUeiglU3qzZz/cV6kSsHdvycYxb54sR1HecISLiIioHDh7FvDxAWJji35LGyqc
/OoWo1+lSERERKYXEgJ4e7PYMhUWXGVI1oXYqPCYN22YN22YN+2YO202bNDjwgUpuNgCV3iGPt9Y
cBEREZmptDRg2zbgP/+RmyhnlZwMrFwJjBoFtG0rN5v29jZNnMQeLiIiIrN05w7Qt68ss9C8OfDX
X8Du3bLe1eLFwPTpcv/CRYtkGYYtW4ChQzmlaEz51S0suIiIiMxIWhqwYwcwaxbg6ipraFlYANOm
ySruY8bIDaf1ellJnkoOm+bLCfY3aMO8acO8acO8acfcCT8/Ka7GjpVb8VhayqjVvHnAnDnAV18B
mzY9LLaYN20MnTeuw0VERGQmgoOBnTuBEyeAatVyPj5okPxQ6cMpRSIiIjOQng44O8sNoV980dTR
UG44pUhERGTmIiKkf4vFlnliwVWGcJ5eG+ZNG+ZNG+ZNu/Keuz17gM6di/688p43rUr9Olz379+H
p6cn3Nzc4OzsjPfffz/X4yZOnAgnJye4uroiPDzc0GEQERGVKXv2yI2nyTwZpYcrKSkJ1tbWSE1N
hZeXFz777DN4eXllPh4YGAh/f38EBgbi0KFDeOuttxAaGpozOPZwERERITUVqFULiIoCatc2dTSU
l2L1cJ05cwadO3dGixYtAADHjx/H3Llz832OtbU1ACA5ORlpaWmoUaNGtsc3b96MoUOHAgA8PT2R
kJCAy5cvF/xJiIiIyqGwMOCJJ1hsmbMCC67Ro0dj3rx5qFixIgDAxcUFP/zwQ77PSU9Ph5ubG+zs
7NCpUyc4Oztnezw+Ph4ODg6Z2w0aNEBcXJyW+CkLztNrw7xpw7xpw7xpV15zl5Aga2w9/7y255fX
vBVXia/DlZSUBE9Pz8xtnU6HChUq5PscCwsLHDt2DLdu3UKXLl2g1+vh88gdMx8dctPlca+BYcOG
wdHREQBgY2MDNze3zNfKSAa3ZfvYsWOlKh5z2c5QWuIxl22eb9q2M5SWeMxp+9ixY5qf//77ety7
B3zxRen5PIXZdnf3gbs74Oqqh68vAJSu+MrydmHOt4zfo6OjUZACe7i6deuGRYsWYcCAAQgPD8eG
DRuwYsUKBAUFFfjiADBnzhxUqVIFkydPztw3duxY+Pj44JVXXgEANGvWDCEhIbCzs8seHHu4iIjI
AAYPBkJDgchI87qX4PTpQFwc8O23po6ECqNYPVz+/v7w8/PD6dOnUb9+fSxYsABLlizJ8/hr164h
ISEBAHDv3j389ttvcHd3z3ZM7969ERAQAAAIDQ2FjY1NjmKLiIjIUE6elMLlyBFTR1J4Fy8CS5YA
//d/po6EDKHAgqtx48bYvXs3rl27hjNnzmD//v2ZU3y5uXjxIp577jm4ubnB09MTvXr1QufOnbF0
6VIsXboUANC9e3c0atQITZo0gZ+fHxYvXmywD1SePTplQYXDvGnDvGnDvGmnNXfp6cCZM8AbbwDf
fWfYmADgwQN5D0ObORMYNgxo2LB4r8NzThtD563AHq7Zs2dnDpFl7bOaMWNGrse7uLjg6NGjOfb7
+fll2/b39y9qrEREREUWEwPY2ADjxgEdOgALFsgNn7WYNAlYtAioUQM4dkwKLRcX4M4d4L//BbJ0
zxTL0aPA5s3A6dOGeT0yvQJ7uD777LPMQuvevXvYunUrnJ2dsXLlSuMHxx4uIiIqpqAgYP584Lff
gEaNgMBAoFmzor/Oli3AxIlSDH38MXDrluy3tQU8PYHly4Ft24ofr1KAtzfw+uvAmDHFfz0qOfnV
LQWOcE1+pFx/99138cILLxgmMiIiIiM7eVJu+gwAHh6yplVRCq6UFGDxYuCjj4Cff5YCa+pU4Kmn
pDiKjJQRrlwmdzTZvx+4dAkYOdIwr0elQ4E9XI+6e/cu4uPjjRELFRPn6bVh3rRh3rRh3rTTmrtT
p4DmzeX3jIKrKL74AvjhBxkZe/ZZ2VezJjB3LjBrlvzesCGQnCyN7sX11VfAm29qn/Z8FM85bUq8
h8vFxSXz9/T0dFy5ciXP/i0iIqLS5uRJYMgQ+b1NG2DOnMI/NykJ+PxzmY7M8nUIABg79uHvOh3Q
ujUQHg7Uq6c91osXgR075OpEKlsK7OHKupiXlZUV7OzsClz41FDYw0VERMWhlDS4R0bKbXFu3AAc
HWX1dot85nju3AHu3gXWrpUpvg0bCn6vKVOA6tWBadNyPnb3LlC1auFeIzGRBZe50tTDdePGDQDA
448/nm1/YmIiAOS4PyIREVFpc/26/JlxD8IaNeQm0JGRwLVrgJfXw2OTk4GbN2W9rgED5LkPHsiC
qYXRujWwfn3O/X/+CbRvD5w7l//oV1gYsHo1cPx44d6PzEue9X3r1q3h4eGR5w+VPpyn14Z504Z5
04Z5005L7s6fBxo3zr7PwwPo2VP6sfbte7h/5ky5ivH55+XehdeuAX/9Bbi5Fe69MqYUs1IKGD8e
eOwxYOvW3J8XHi7LSQwcKFdTGnodcJ5z2pRYD1dh7gtERERUmp07J0VUVn37Avb2Uoh9/PHDpRx2
7AB27pS1ujI0aVL492rSRHq+Mpr0r18HPv1U9i1YII33o0dnf87Nm8CLLwJDhwL/+x/Qr5+2z0ml
X4E9XABw8+ZNREVF4f79+5n7OnbsaNTAAPZwERFR8cydK/1TH3+c87H796UYCwp6WIBduwYUp015
5kzg6lXgnXeAdu2AHj2AGTNkKrNhQ+Cff2S0C5ApzAEDgCeflCshyfwVax2ub775Bl9++SViY2Ph
7u6O0NBQtG/fHnv27DF4oERERIZ0/jzwzDO5P1a5shRGM2cCgwbJYqPFvSZs3DgZ3Tp6FPjgA+Dt
tx8+5ukJLFsmRZiFhUw1Vq4sK9RT2VfgOlwLFy7E4cOH4ejoiODgYISHh6N69eolERsVEefptWHe
tGHetGHetNOSu9ymFLN68025Rc/HHwO+vtpjy1C3LtCrlxRuEydmf2zyZOCXX6R/7IUXZAry55+l
6DImnnPalPg6XJUrV0aVKlUAAPfv30ezZs1w5swZgwZBRERkDOfO5Wyaz6pyZSm2Xn3VMAUXIKvS
AzkXLu3SRX6ofCqwh6tPnz5YtWoVFi5ciN27d8PW1hapqakIDAw0fnDs4SIiIo3u35ebVt+9m/+q
7UrJcg4DBsgCpkRa5Ve3FKppPoNer8ft27fRtWtXVKxYMc/jYmNjMWTIEFy5cgU6nQ5jxozBxEfG
VvV6PV588UU0+nest3///pg+fXqhAyciIsrPqVNyBWBkpKkjofIiv7qlwB6uCRMm4MCBAwAAHx8f
9O7dO99iCwAqVKiABQsW4MSJEwgNDcVXX32FU6dO5TjO29sb4eHhCA8Pz1FsUdFxnl4b5k0b5k0b
5k27ouYutzW4yiOec9oYOm8FFlweHh6YO3cuGjVqhMmTJ+OPP/4o8EXr1q0Lt39XinvsscfQvHlz
/PPPPzmO4+gVEREZy9mz+TfME5WkApvmhw0bhmHDhuH69evYuHEjpkyZgpiYGJw9e7ZQbxAdHY3w
8HB4enpm26/T6XDgwAG4urrC3t4en332GZydnXN9f0dHRwCAjY0N3Nzc4OPjA+Bh9clt2c7YV1ri
4XbZ3s7YV1ri4Xb52M5QmOO/+QaYPbt0xW+KbR8fn1IVjzltZ8jvcb1eX6jF4gvdw3Xo0CGsW7cO
mzZtgrOzM7Zs2VLgc+7cuQMfHx9Mnz4dffr0yfZYYmIiLC0tYW1tjaCgILz11luIfGSinT1cRESk
RWioXHkYFZV/wzyRIRWrh2vKlClwcnLCjBkz0LJlS4SFhRWq2EpJSUH//v3x+uuv5yi2AKBatWqw
trYGAHTr1g0pKSmZN8wmbR6tyKlwmDdtmDdtmDftipK7+fOBSZNYbAE857QydN4KnFJs3LgxDh48
iFq1ahX6RZVSGDlyJJydnTFp0qRcj7l8+TLq1KkDnU6Hw4cPQymFGjVqFD5yIiKiXCQkANu3AytW
mDoSooeKtCxEYe3btw8dO3ZEq1atoPt3UZN58+YhJiYGAODn54evvvoKS5YsgZWVFaytrTF//ny0
a9cue3CcUiQioiL69Vfgq6/kRtREJclg63CVNBZcRERUVBMnys2op041dSRU3hSrh4vMB+fptWHe
tGHetGHetCts7vbsAZ57zrixmBOec9qUeA8XABw7dgx79+6FTqfDs88+C1dXV4MGQUREZAiXLgHx
8UDr1qaOhCi7AqcUFy5ciG+++Qb9+vWDUgqbNm3C6NGjc9yqxyjBcUqRiIiKICAA2LQJ2LjR1JFQ
eVSsHi4XFxeEhoaiatWqAIC7d++iXbt2iIiIMHykjwbHgouIiIqgXz+gTx9gyBBTR0LlUbF7uCws
LHL9nUoXztNrw7xpw7xpw7xpV1DukpKA3buBHj1KJh5zwXNOmxLv4Ro+fDg8PT2zTSmOGDHCoEEQ
EREV165dgIcHULOmqSMhyqlQy0KEhYVh3759mU3z7u7uJREbpxSJiKjQRowA3NxkWQgiU9DUw3X7
9m08/vjjmbfbyTgsYyHTklgVngUXEREVRno6YGcH/PEH8MQTpo6GyitNPVyDBg0CALRu3RoeHh5o
06YN2rRpAw8PD3h4eBgnUioWztNrw7xpw7xpw7xpl1/uzp0DqlZlsZUbnnPalFgP17Zt2wAA0dHR
Bn1DIiIiQwsLk/4totIqzynFo0eP5vvE1iWwqhynFImIqDDefRewsQGmTTN1JFSe5Ve35DnC9Z//
/CezXys3wcHBxY+MiIjIAMLCgClTTB0FUd548+oyRK/Xw8fHx9RhmB3mTRvmTRvmTbu8cqcUYGsL
REYCdeqUfFylHc85bbTkrVgLnyYnJ2PhwoXo378/+vfvj0WLFiElJSXf58TGxqJTp05o0aIFWrZs
iS+//DLX4yZOnAgnJye4uroiPDy8EB+FiIgou/PngWrVWGxR6VbgCNfIkSORmpqKoUOHQimFNWvW
wMrKCsuXL8/zOZcuXcKlS5fg5uaGO3fuwMPDA5s2bULz5s0zjwkMDIS/vz8CAwNx6NAhvPXWWwgN
Dc0eHEe4iIjoEQcOAO3bAxldL+vWAWvXyj0UiUxJUw9XhiNHjuD48eOZ2507d0arVq3yfU7dunVR
t25dAMBjjz2G5s2b459//slWcG3evBlDhw4FAHh6eiIhIQGXL1+GnZ1dwZ+IiIjKpehooEMH4J13
gE8/laJr507gmWdMHRlR/gosuKysrHD27Fk0adIEAHDu3DlYWRX4tEzR0dEIDw+Hp6dntv3x8fFw
cHDI3G7QoAHi4uJyFFzDhg2Do6MjAMDGxgZubm6Zc6oZa2RwW7a/+OIL5kfDdsa+0hKPuWzzfNO2
nbGvtMRjTtvHjh1DhQqT0Ls3sHGjHomJwLx5Pvj5Z2DlSj30+tIVb2nZfvTcM3U85rJ97NgxTJo0
Kd/jM34v1BJaqgC7du1SDg4OqmPHjqpjx46qYcOGavfu3QU9TSmlVGJiovLw8FC//PJLjsd69uyp
9u3bl7nduXNnFRYWlu2YQoRHWQQHB5s6BLPEvGnDvGnDvGkXHBysunVT6qeflIqPV8rOTqlXXlFq
8GBTR1a68ZzTRkve8qtb8uzhWr9+PQYMGIDz58+jfv36OHPmDADgqaeeQuXKlQss5FJSUtCzZ090
69Yts0LMauzYsfDx8cErr7wCAGjWrBlCQkKyjXCxh4uIiDLcvQvUqwfExMiaW+vWAQMHAocPA23b
mjo6Io1XKc6bNw8A0L9/f1SuXBmurq5wdXUtVLGllMLIkSPh7Oyca7EFAL1790ZAQAAAIDQ0FDY2
NuzfIiKiPO3ZI6vJ29jI9ssvA0eOsNgi85DnCJevry90Oh2OHDmCZ599NvuTdDps3rw5zxfdt28f
OnbsiFatWmUunjpv3jzExMQAAPz8/AAA48ePx/bt21G1alWsWrUqx+r1HOEqGr1enzm/TIXHvGnD
vGnDvGnXtaseXbv6II9/x1MeeM5poyVvmq5SDAwMxNGjRzF48GBMnjw52wvktwI9AHh5eSE9Pb3A
wPz9/Qs8hoiIKCkJ2L8f+PZbU0dCpE2B63CtW7cOL7/8coH7jIEjXEREBMg6WwEBwPbtpo6EKG/F
Wmn+448/LtQ+IiIiY1mzBhg82NRREGmXZ8EVFBSECRMmID4+HhMnTsSECRMwYcIEDBs2DBUqVCjJ
GKmQsq4LQoXHvGnDvGnDvBXdpUvAwYNAzZp6U4dilnjOaWPovOXZw1W/fn14eHhg8+bN8PDwgFIK
Op0O1apVw4IFCwwaBBERUV5++AF48UWgEBfJE5Va+fZwpaamYsiQIVi7dm1JxpSJPVxERNS6NfDJ
J4Cvr6kjIcqf5nspWllZISYmBg8ePEClSpWMEhwREVFWP/8MbNkCeHkBdesCV64AnTqZOiqi4imw
af7JJ5+El5cX5syZg88//xyff/455s+fXxKxURFxnl4b5k0b5k0b5i1/9+8DkyYBjRoBISHAhAnA
6NGApSVzpxXzpk2J9XBlaNy4MRo3boz09HTcuXMns5eLiIioMOLigIoVgTp1gJ07ZU2tPn1yP3b5
csDNDZgxo2RjJDK2AtfhypCYmAgAqFatmlEDyoo9XERE5u3zz4EPPwRGjQK+/BIYPhz4/XcgMlJG
rbJKSwOeeAL49Ve5hQ+RuSnWOlwRERFwd3dHixYt0KJFC3h4eOCvv/4yeJBERFS2HD8OzJ8PLFwo
vwPAiRPAjRtAYGDO4//6C3jsMRZbVDYVWHCNGTMG8+fPR0xMDGJiYvD5559jzJgxJREbFRHn6bVh
3rRh3rQpT3lbsQIYORLo3RuIiADS04GTJ4E5c2S061F79wKP3Lo3m/KUO0Ni3rQxdN4KLLiSkpLQ
KcvlIT4+Prh7965BgyAiorLl/n3g+++BESMAOzuZPjx4ELCxkSb48HAgJib7c/bulSsTicqiAnu4
+vTpAw8PDwwePBhKKXz//fcICwvDL7/8kudzRowYgW3btqFOnTqIiIjI8bher8eLL76IRo0aAQD6
9++P6dOn5wyOPVxERGZp7Vq50fTOnbLduTPg7Cy9Wzt2SCHm6gq89ZY8rhRgbw/s2ydXKBKZo2L1
cK1atQpXrlxBv3790L9/f1y9ehUrV67M9znDhw/H9gLuMOrt7Y3w8HCEh4fnWmwREZF5evBArjJ8
552H+1xcgHXrgBYtZLtfP1lvK8P584BOBzz5ZMnGSlRS8iy47t27hwULFmD69Olo2bIlDh06hKNH
j2LhwoWwtbXN90WfffbZAo/hyJXhcZ5eG+ZNG+ZNm9Kct2vXDPM6CxZIYdWly8N9rVrJAqYZBZev
rzTSX74s2yEh0r+V36pDpTl3pRnzpk2J9XANHToUYWFhcHFxQVBQECZPnmywN9XpdDhw4ABcXV3R
vXt3nDzj+jHyAAAfRElEQVR50mCvTURERXP0KNChA1CvnvRX/bsKEADg7l1g/XqZ8iuMhATg00/l
6sSsXFzkz5Yt5c/KlYFu3YCAAODOHeCjj4AhQ4r/WYhKqzwXPj116lRm/9WoUaPQtm1bg71p69at
ERsbC2trawQFBaFPnz6IjIzM9dhhw4bB0dERAGBjYwM3Nzf4+PgAeFh9clu2M/aVlni4Xba3M/aV
lni4/XD77l0gJEQPa2ugQgUf2NoCV67kfvwzz/jg1VeBrl31eO894McfffDaa8Dbb+sRHg4sWOCD
xEQgMlKPDh0Kfv8///RBly5AbKwesbEPH79+XY9KlYDmzR8e36ULMH26D9atA5o2lXiB/F8/Q2nK
d2nf9vHxKVXxmNN2hvwe1+v1iI6ORkHybJp3d3dHeHh4ntsFiY6ORq9evXJtmn/Uk08+ibCwMNSo
USN7cGyaJyIqlNOngdWrZZpu714ZkXJwAG7fBqpUkf1VquR83vz5wG+/ybpYOp30X7m7A6+9Jutn
rV0rVxy+9x7w5585FyvNKj0daN5cloPI7WrDGzeAR/6aR0wMMHMm8MUXQPXqxcsBkalpapo/fvw4
qlWrlvkTERGR+fvjjz9erIAuX76cGdDhw4ehlMpRbFHRPVqRU+Ewb9owb9oUN2+pqbIiOyBX/J06
JftefllumTNihBQx//wDLFsGREdLATVzphREWf39N/Dxx9JzldE7VakSsHQpMH26rBLv6wv06CHL
OaxYkXtMiYnyHgMGyFRhhw65H5fbX/MNGwKrVhWu2OI5pw3zpo2h85bnlGJaxv/RGgwaNAghISG4
du0aHBwcMHv2bKSkpAAA/Pz8sGHDBixZsgRWVlawtrbGjz/+qPm9iIjKkzfekJGmxYtlQdHUVOCl
l4DatWWUKGvTecYo06JFQMeOstiol5esj1WzJvDqq8CUKUCzZtnf49lnpWhzcJBtnQ74+mtZ2sHe
XgqwrFavBurWlaLLzy//xnei8qrQ91I0BU4pEhHJLW/u3AEefxzw8ZFCaeFCKbCeeAIYPBgIDX14
BWBe7t0D/vtfKdaqVQOaNAG2bwcs8pzryO7QISm2WreWBveBAwErK5lGXLZMijqi8iy/uoUFF9G/
9u4F/vMfuUorr7tXnT4t0ypduwLPPcd/yVPx7N4NdOqUe8Fz4oScbz17ypIKV68CderITaAnT5Yi
LOOKv5QUoEKFwr9vVBSQnCwFV6VKRYv57l0gKAhYskRG2qpWBWrVAv74g/8/ELHgKif0Wa4Yo8L7
9ls9du3yQXCwLNb4ySfyxZb1Cyw1Fbh+XZp+Bw+W1bNtbOSS9tq1ZQ2hbdukubhePeDpp/HvFVcP
OTsDDRqU7GczJp5vhRMbC7z5JjB7tky5ZeTt8GHA01N6pebMeXh8ZKT0NC1fLudgixZyQ+cvvpDl
Fj79NPfmd1OIi5Niz84u5/luDDzntGHetNGSt/zqljx7uIjMUWKi9KcsXSojAu3aAe3byxVbEREy
9dG+vXyJRUbKrUfWrwemTgW++koad19+WY7NysJC/hXv4CD/ok9Plymdli3lMVdXoH9/KcL+/lu+
LJOTHz5fKSAsTIq1Tz4p+qgCmadr12Txz7ZtgRdeAFaulKk8QM6fqVPlfG3UCBg2TEavgoKAPn1k
9OjmTTlnVq6Uc8/f36QfJ4ey9A8IImPjCBeVCVeuAP/7n4wM+PgA48bJl1hoqPwAsvDiqVNyA90T
J4CnnpIvwSlTpFDSIi0t/8vkH41xzBh5zoYNLLrKqk2bpPB//XWge3cp7j/7DDhyRLZ375bivWVL
uZ3NxYvA88/LcTdvAnp9yYwWEZHhcUqRypzTp+W+bBERUkT9/beMEEydWrr/1Z2SIl/E27bJ5fAN
G0oPz5QpUoilpwMVKwK//y7Tlz16FK03h4ovOVn+G2hx6ZL0W1lYyMjWiRNS4Gf8N1y7Vm7WXKGC
NJwvWCD7o6OBDz+UwszOziAfg4hMgAVXOWFu8/RpafJltHmzrB/Uvr00CD94IAWJm5tM1WVtKE5L
A8aOBbZskSu1nn5apgmbNtXe12KKvN26Jb09MTHS21OvntxeJTFRRjri46Vw/PtvGRFxcirR8ArF
3M63wli5Ehg/XqaEX321aM9NS5PnODrK9HK/fsCOHTmvHFyxQo9OnXzg6Fj4qwNJlMVzriQwb9qw
h4vMilLA/v1yGXpIiNxnrVYtaTSPiQHq15e1hOzsZMTqjTfkS6hTJ7l8/cEDufw8JEQa0m1sZJTo
3DnppTJX1avLT8uWskjkp58CH3wgRdaBAzKyVaUK8M03Mg114IDkjLRJTJSevkaNcn/83j3g3Xdl
iYS1a6XJPSFBzseC7NwpV/2tXCnN7atWyZRgbGzuV+01bpx3HERUdnGEi4wiKUkKiK1b5UtnwgSg
Vy8ptq5dky8/OztZQyirmzfl+IyeqtBQ+QLs3Fm+zMLD5UuwPPW4TJ8ut1357TdZrDIviYlSmD3x
hOR40SIpXps2lQLu6adLLuZHpaZKAT1mjFwBeuuW3CrmzBnpuRs7VvYb6707dpSp57p15SbJffvK
eXbxopxfy5fLaOrXX8u5d+6cjLZ6esp5Gh0t62AtXpz9nF27Fnj/fbkJc6dOcsEFl0YgKr84pUgl
KikJePFFKQ4++ECa1fklpJ1S8qW+dassH+DhIffHc3aW++NNmSL9XlFR0j/0zz/SCzZliiyU+eef
wM8/y8jKhx/KSuN5/fd48ED+NHRD/5IlwLx58lm6dpUCslcvGd3ctg348Udg6FApvJ56yjDv+eCB
jDItXy6FemAgEBwMTJr08MrSbdtk6m/gQLmFTda8JCTIFaXVqsk04dmzclVrSIiMRJ47J9PgO3bI
cg9ERCy4yoms880nT8otOIp7M9gTJ6RHKrdekzVrZESlWTO5f9qVK7J4aGio3Grkm28KfwWfKZlD
f4NSMuW6aBFw4YLkOzlZplnnzZN+t0aN8h4BS0mRwsPfX6bPXntNCo6bNx+OKt6/L4URIBcgbN0q
IzuNGkkx0qiRjAhFRkqBZ2Wlx9ixPnj2WVmBPDlZ4njiCelnWrpUmsKfeUaKku3bZS2zkydlxNLZ
+WF8MTEyurRihSwo27ChFDb/+Y/cn08p6fX76y/5fetWKTpXrZKlP9LTJQYPD2l4P3YMGDRIPqud
nVw5WK+evFdampyjR47IiFT9+oX/7zB/vtxfcMoUuSp29mxZKLcozOF8K62YO22YN20M3cPFgqsU
SEuTLzobG7mC7dtvZfrjzTflyzA+Xv4MC5PbaHh7yzTJ/v3SP2JnJ+v82Nvr4evrA39/mepITwfe
flumbqwK6NZ78CDnqMby5TJ95+YmawElJck909LT5V/0YWHy+Nmz8oVevbqMnnTokP/UV2ljrn8Z
/fWXjGA1bFj45yglxciaNdKQb2v7cPo2OVlufJyeLoVM795AmzZSYAUFyRV4devKFGXNmsDOnXps
3+6DmJiHC70ePCiFXMayG3PmyOgSIFfnFeTOHSkKb92Sc/rDD6Ww0unkPPf1lf9ffH1l/5tvyjl3
8aIswpmWJgXU+fNy38DXXit6Xguye7eM3H70kcRRVOZ6vpUGzJ02zJs2LLjMmFLyL21LS/kyS0mR
f7V/+qn8qzw6WvpZQkKkfyQgQKYuHB2lmHFzk1GI/fulodrFRY7LWLtnxw7p4+nQQRZVvH1bbiR7
7ZqMEvTpI6NRd+/Kcxo0kBjmzZMvj7p1ZbTAzU0eX7NGYjl6VEauLCxkRMDSUt7rrbfMq7Aiw0tP
l5+Mgj4xUf4R4O5umMbw1FSZFrx3T0ZaH50KvXtX/oFStapcXHHihJy77dppX9qBiEgrFlwmpJR8
KRw9KlMRUVHyJdK4sYw0NG0qfSsDB0pPyJtvyr/wmzaV5xa39yk9XYo6vV5GvdzdZSpFKVlsMeOG
t8uXy5daaKj0BT32mBRorVoZJA1ERERlXn51i1FWgRkxYgTs7Ozg4uKS5zETJ06Ek5MTXF1dEZ4x
52BCt27JvcrOndP+GomJUrh07iyjRZUqyQKHdnZylZ63t0yvHD0qDcN79sgI0qBBMnrk5CSjA02b
yusVtdjS6/U59llYSOH0xRdS7L32mhRUUVEyFbN1q0wX2dvLjWxff10ahWfMKD/FVm55o4Ixb9ow
b9oxd9owb9oYOm9GWYdr+PDhmDBhAoYMGZLr44GBgTh79iyioqJw6NAhjBs3DqEZ918pIUFBcnd7
Dw/pkZo3T9ZEmjtXpvCio2WaomZNabYdMEAKqerVpW8mq6Qk4J135EqrTp2AiRPldWvVkoLn0amN
SpUKt76PoVWvLtMuGSZOLPkYiIiIyiOjTSlGR0ejV69eiHj0LsAAxo4di06dOmHgwIEAgGbNmiEk
JAR2j9zTQqfTYds2Ca9uXZmG27r1YZ/S5cvS8OvhkfdoUGqqPJZxtVxGg/q8ecArr8hoj729FFQ9
e8ql4BERMtp0755cVXX+vDSLHzsmj7dvL4tQ7tkjV1Ht2QPUqCFXZNWta7gcEhERkfkodSvNx8fH
w8HBIXO7QYMGiIuLy1FwAcCYMcNQpYojbt0Crl+3Qdu2bmjWzAfz5wOVK+tx7Rpgb++DLVuA06f1
AABvbx/89BMwebIely4BVar4oFUrICVFj3PnACcnH+zdC8TG6tG7NzKvQsgYPnx0++WXffDyy7Kd
mgrEx/vg7l2gUyc9VqyQ1/v2W2DfPj1Ony749bjNbW5zm9vc5rb5b2f8Hh0djQIpI7lw4YJq2bJl
ro/17NlT7du3L3O7c+fOKiwsLMdxj4aXlpbztdLSlJoxQykPD6Xu3FHq8mWlevZUysVFqZAQpZKT
lbpxQym9XqmgIKVOny7e5yrNgoODTR2CWWLetGHetGHetGPutGHetNGSt/zKKpOMcNnb2yM2NjZz
Oy4uDvb29gU+z8Ii932zZskaQba20i81YYKsrF2xohxjaysN60RERESmYJIersDAQPj7+yMwMBCh
oaGYNGlSrk3zRV0W4sEDWYKhRo1ihU5ERERUZCXewzVo0CCEhITg2rVrcHBwwOzZs5GSkgIA8PPz
Q/fu3REYGIgmTZqgatWqWLVqlUHet1Ilw98DjoiIiKi4uPBpGaLX6zMb+qjwmDdtmDdtmDftmDtt
mDdttOStxBc+JSIiIqKHOMJFREREZAAc4SIiIiIyIRZcZUjWhdio8Jg3bZg3bZg37Zg7bZg3bQyd
NxZcREREREbGHi4iIiIiA2APFxEREZEJseAqQzhPrw3zpg3zpg3zph1zpw3zpg17uIiIiIjMDHu4
iIiIiAyAPVxEREREJsSCqwzhPL02zJs2zJs2zJt2zJ02zJs2ZtPDtX37djRr1gxOTk743//+l+Nx
vV6P6tWrw93dHe7u7pg7d66xQik3jh07ZuoQzBLzpg3zpg3zph1zpw3zpo2h82Zl0Ff7V1paGsaP
H49du3bB3t4ebdu2Re/evdG8efNsx3l7e2Pz5s3GCKFcSkhIMHUIZol504Z504Z5046504Z508bQ
eTPKCNfhw4fRpEkTODo6okKFCnjllVfw66+/5jiODfFERERUHhil4IqPj4eDg0PmdoMGDRAfH5/t
GJ1OhwMHDsDV1RXdu3fHyZMnjRFKuRIdHW3qEMwS86YN86YN86Ydc6cN86aNwfOmjGDDhg1q1KhR
mdtr1qxR48ePz3bM7du31d27d5VSSgUGBionJ6ccrwOAP/zhD3/4wx/+8MdsfvJilB4ue3t7xMbG
Zm7HxsaiQYMG2Y6pVq1a5u/dunXDG2+8gRs3bqBGjRqZ+xWnHImIiKgMMMqUYps2bRAVFYXo6Ggk
Jyfjp59+Qu/evbMdc/ny5cyC6vDhw1BKZSu2iIiIiMoKo4xwWVlZwd/fH126dEFaWhpGjhyJ5s2b
Y+nSpQAAPz8/bNiwAUuWLIGVlRWsra3x448/GiMUIiIiIpMr1bf2odxduHABTz75pKnDMDt//PEH
GjZsiDp16pg6FLOya9cu2NrawsPDw9ShmJ2EhATY2NiYOgyzk5ycjIoVK5o6DLPDvBVPWloaLC0t
jfb6XGnejBw9ehS+vr6YMWMGUlNTTR2O2Thx4gTat2+PWbNm4ebNm6YOx2wcPXoUXbt2RZ8+fXD2
7FlTh2NWDh06hBdffBGjR4/GihUrcP/+fVOHZBYOHjyI1157DbNmzUJkZCTS0tJMHZJZOHjwIAYM
GIDJkyfj5MmTzFsRHDhwAB9++CEAGLXYAlhwmY25c+filVdewcCBA7FmzRpYWRllNrhM+uKLL9C3
b19s3boVTz31FABekJGf9PR0jB49GqNHj4afnx9effVVnDp1KvMxyl9YWBjGjRuHl156CS+99BKC
g4NZsBZCREQEJk6ciJ49e6JOnTr45ptvEBAQYOqwSr0rV65g/Pjx6N69O2rWrImFCxdi5cqVpg7L
LKxevRpDhw7FRx99hJ9++gkAjDqYwYLLTDx48ABeXl4YPXo0ABl9SElJMXFUpd/Vq1dhYWGBCRMm
AAA2btyI2NhY3Lt3DwALr9xYWFjghRdewN69e9G3b1/0798fwcHBuH//Piws+FdGQUJDQ9G4cWMM
HjwYL7zwAu7du4eGDRuaOqxSb//+/WjWrBkGDRqEUaNGoUqVKvjuu+9w4cIFU4dWqkVERKBp06YY
Pnw4Jk+ejH79+uHXX39FZGSkqUMr9RwcHLBnzx5s374dkydPBiA96Mb6XrCcNWvWLKO8MhXL2rVr
sX79ety6dQvNmjVD27ZtsXLlShw9ehTTpk3DkSNHEBQUhPT0dLRo0cLU4ZYaGXlLTEzEU089BZ1O
h2nTpqFJkyaYPXs29u7diyNHjmDnzp3o3bs3dDqdqUMuFTLydvv2bTRr1gwtWrRAhQoVkJ6ejujo
aFy8eBHe3t6wtrY2dailzqO5a9iwISZPnow7d+5g1KhRsLCwwB9//IHTp0/Dy8vL1OGWGo/mzdLS
Ej/99BOeffZZ1K1bF7///jsSEhIQExODzp07mzrcUkOv1+PSpUuZSy09/vjjmDNnDnr06AE7OzvY
2toiNjYWBw4cQJcuXUwcbenyaO6eeOIJVK1aFU2bNsXGjRtx4cIFPPfcc0hNTTXO9GIx1zglA0tP
T1eLFy9Wbm5uasWKFcrJyUktW7ZMKaXU+vXrlY+Pj9Lr9Uoppb7++ms1cuRIdfr0aVOGXCrklrel
S5cqpZRasGCBcnBwUN9++61SSqm4uDjVrl07tW3bNlOGXCrklreVK1eq27dvZx4TGxurHB0dVVxc
nFJKqbS0NFOFW6rkd85dvHhRTZ48Wa1Zs0YppZRer1c9e/ZUBw4cMGXIpUJueVu1apW6ePGimjZt
murQoYPq3bu36tGjh1q7dq2aMmWKSkpKMnXYJnf79m3Vt29fZWNjo4YNG6auX7+e+dgHH3ygJk6c
qJSS/z9///135efnp/755x9ThVuq5JW7tLS0zL/PIiIiVLVq1dSlS5eMFgfnB0oZnU6H0NBQTJ06
FSNGjMDixYszhzxfeukl/PLLL/D29gYA+Pr64urVq9kWkS2vcsubXq/H9u3bMXz4cKSmpuLq1asA
ZGFeLy8vozdImoPc8rZr1y78/vvvmcPqDRo0QLt27fDzzz8DAKcV/5XXORcYGIi6deti165dqFWr
FgCgdevWqFOnDq8gQ868ffXVV/jtt99w7NgxzJ07F0uXLsWwYcOwdetWODk54fjx46hSpYqpwza5
ihUrolOnTvj+++9Rv359rF+/HoC0RQwYMACnT5/Grl27YGFhgZo1ayI+Ph7Vq1c3cdSlQ165s7Cw
gIWFBdLS0tCyZUsMGDAA7733HgAgKCjI4HHwb85SICAgACEhIbhx4wYAoHnz5oiPj0dqaip8fX3h
6uoKvV6PmJiYbJeY79y5EzqdDlWrVjVV6CZVUN5atWqFPXv2oGLFili0aBECAgJw7NgxLFmyBLt2
7YKjo6NpP4CJFJQ3FxcX7Nu3L/NuESkpKWjSpAmnE1G4cy5j2mL06NH45JNPkJ6ejp9++gl//fUX
atasaeJPYBr55e3555+Hi4sLgoODERsbixYtWqBv374AgD179sDT07PcXqwREBAAvV6PmzdvolKl
Shg9ejR8fX3RtGlThIWF4fTp09DpdHBxccGgQYMwadIknD17Fnv27IFSCsnJyab+CCZTUO4yetyy
nlsrVqzA6tWrYWtriz///NPgvVzs4TIRpRQuXryIXr164c8//0R8fDw2bdoEX19fXLp0CdHR0WjY
sCFq1aqFBg0a4LvvvsPTTz+NevXqITg4GP369cOVK1fw3//+N8dtk8qyouTN3t4e33//PVq0aIHO
nTvj8ccfh16vx8GDB+Hv7w9nZ2dTf5wSU5zzzdLSElu3bkVSUhKee+45U3+UElfUc27t2rVo06YN
evXqhd27d+Pbb7/FsWPH8PXXX8PJycnUH6fEFPWc+/777zPPucOHD+P111/H+fPnMW3atHJVqOaV
t44dO6J69eqwtLSEtbU1oqKiEBkZCW9vb1hYWMDNzQ137tzBpk2bEBISgi+//BIODg6m/jglqii5
O3PmDLy9vaHT6aDT6RATE4Phw4ejTp062LBhA/r162f4Hl+jTVZSnlJSUpRSSp0+fVq9+uqrmfvG
jRunBg8erB48eKBGjBihVq9erRISEpRSSg0ZMkR9+OGHSimlIiMj1a+//mqa4E1Ia94++OCDzNco
j/1HxT3flCqfeVNKe+6mTZumlFIqOTlZXblyxTTBm5DWvE2fPl0ppdSVK1dUcHCwSWI3pbzy9uab
b6q+fftmO3bjxo1q3LhxKioqSiUmJqrU1FSllFL3798v2aBLCa25S0pKUqmpqSohIUGFhoYaNUYu
5lSC0tLSMH36dKSnp6Nbt25ITEzMXE/LysoKixYtQr169XDy5EkMGjQIv/zyC+Li4vDBBx/A0tIS
Tz/9NADAycmpXP1Lubh5a9++feZrlaf+I0Odb0D5yhtQ/Ny1a9cOAFChQgXUrl3blB+lRBU3b56e
ngCA2rVrw8fHx4SfpGQVlLeFCxeifv36CAkJyezh7du3L06dOoUuXbrgzp070Ov1aN68OSpVqmTK
j1LiDJG74OBgODs7Z55/xlK+/hY1oZCQEHh4eCAhIQFNmjTBhx9+iAoVKiA4OBiHDx8GIKvczpw5
E1OnToWvry/8/Pywf/9+eHp64ubNm+XqL6AMzJs2zJt2zJ02zJs2hc3brFmzMHPmzMznrVu3Dh99
9BE6deqEiIgING/e3FQfwWQMlbsSay8x6vgZZQoJCVEBAQGZ22PHjlWLFy9WK1euVK1bt1ZKKZWa
mqouXryo+vfvr86fP6+UUurGjRuZl+OXR8ybNsybdsydNsybNkXJ20svvZSZt5CQEBUSEmKSmEsL
c8sdR7hKSNu2bTFgwIDMe1x5eXllNumlpaXhyy+/hKWlJeLi4lChQoXMm1Pb2trC3t7elKGbFPOm
DfOmHXOnDfOmTVHyZmVllZm3jh07omPHjqYM3eTMLXcsuEpIlSpVULly5cy1n3777bfMNXpWrlyJ
U6dOoUePHhg0aBBat25tylBLFeZNG+ZNO+ZOG+ZNG+ZNO7PLXYmPqZVzKSkpKjU1VXXt2lVFRUUp
pZSKiopSN27cUHv37lWxsbEmjrB0Yt60Yd60Y+60Yd60Yd60M5fccYSrhFlZWSElJQW1atXC8ePH
0aNHD8yZMweWlpbw8vIqV2tqFQXzpg3zph1zpw3zpg3zpp3Z5M7UFV95dODAAaXT6VSHDh3U8uXL
TR2O2WDetGHetGPutGHetGHetDOH3HGleRPQ6XSoWbMmli5dirZt25o6HLPBvGnDvGnH3GnDvGnD
vGlnDrnTKWXgmwURERERUTbs4SIiIiIyMhZcREREREbGgouIiIjIyFhwERERERkZCy4iKhMsLS3h
7u6Oli1bws3NDfPnz0dB1wT9/fff+OGHH0ooQiIqz1hwEVGZYG1tjfDwcPz111/47bffEBQUhNmz
Z+f7nAsXLmDt2rUlFCERlWcsuIiozKlduzaWLVsGf39/AEB0dDQ6duwIDw8PeHh44ODBgwCA9957
D3v37oW7uzsWLlyI9PR0vPvuu3j66afh6uqKZcuWmfJjEFEZwnW4iKhMqFatGhITE7Pts7W1RWRk
JB577DFYWFigUqVKiIqKwquvvoojR44gJCQEn332GbZs2QIAWLZsGa5evYpp06bhwYMH8PLywvr1
6+Ho6GiCT0REZYmVqQMgIjK25ORkjB8/Hn/++ScsLS0RFRUFADl6vHbu3ImIiAhs2LABAHD79m2c
PXuWBRcRFRsLLiIqk86fPw9LS0vUrl0bs2bNQr169bBmzRqkpaWhcuXKeT7P398fzz//fAlGSkTl
AXu4iKjMuXr1KsaOHYsJEyYAkJGqunXrAgACAgKQlpYGIOc0ZJcuXbB48WKkpqYCACIjI5GUlFTC
0RNRWcQRLiIqE+7duwd3d3ekpKTAysoKQ4YMwdtvvw0AeOONN9C/f38EBASga9eueOyxxwAArq6u
sLS0hJubG4YPH46JEyciOjoarVu3hlIKderUwS+//GLKj0VEZQSb5omIiIiMjFOKREREREbGgouI
iIjIyFhwERERERkZCy4iIiIiI2PBRURERGRkLLiIiIiIjOz/AbB28ghBa3JaAAAAAElFTkSuQmCC
"
>
</div>

</div>

</div>
</div>

</div>
<div class="cell border-box-sizing code_cell rendered">
<div class="input">
<div class="prompt input_prompt">In&nbsp;[12]:</div>
<div class="inner_cell">
    <div class="input_area">
<div class="highlight"><pre><span class="kn">from</span> <span class="nn">IPython.core.display</span> <span class="kn">import</span> <span class="n">Image</span> 
<span class="n">Image</span><span class="p">(</span><span class="s">&quot;http://www.nature.com/srep/2013/130425/srep01684/carousel/srep01684-f2.jpg&quot;</span><span class="p">)</span>
</pre></div>

</div>
</div>
</div>

<div class="output_wrapper">
<div class="output">


<div class="output_area"><div class="prompt output_prompt">Out[12]:</div>


<div class="output_jpeg output_subarea output_pyout">
<img src="data:image/jpeg;base64,/9j/4AAQSkZJRgABAQEASABIAAD/7QAkUGhvdG9zaG9wIDMuMAA4QklNBAQAAAAAAAccAgAAAgAC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"
>
</div>

</div>

</div>
</div>

</div>
<div class="cell border-box-sizing text_cell rendered">
<div class="prompt input_prompt">
</div>
<div class="inner_cell">
<div class="text_cell_render border-box-sizing rendered_html">
<h2 id="limitations">Limitations</h2>
<p>We have seen that <code>Pandas</code> can do very flexible yet powerful processing of time-series financial data.</p>
<p>Using some basic financial math we can even implement a simple backtest.</p>
<p>However, there are many complexities involved if we actually wanted to run this strategy in the real world that we are neglecting here:</p>
<ul>
<li>Error prone</li>
<li>Not taking transaction costs into account</li>
<li>Slippage: Influence of our own orders on the price.</li>
<li>Look-ahead bias: The whole history is available to us which makes it very easy to use information we would not have access to.</li>
</ul>
<p>Thus, to really backtest a strategy properly we need to simulate all these things.</p>
</div>
</div>
</div>
<div class="cell border-box-sizing code_cell rendered">
<div class="input">
<div class="prompt input_prompt">In&nbsp;[13]:</div>
<div class="inner_cell">
    <div class="input_area">
<div class="highlight"><pre><span class="kn">from</span> <span class="nn">IPython.core.display</span> <span class="kn">import</span> <span class="n">Image</span> 
<span class="n">Image</span><span class="p">(</span><span class="s">&quot;http://cdn.meme.li/instances/300x300/39833146.jpg&quot;</span><span class="p">)</span>
</pre></div>

</div>
</div>
</div>

<div class="output_wrapper">
<div class="output">


<div class="output_area"><div class="prompt output_prompt">Out[13]:</div>


<div class="output_jpeg output_subarea output_pyout">
<img src="data:image/jpeg;base64,/9j/4AAQSkZJRgABAQEAYABgAAD/2wBDAAEBAQEBAQEBAQEBAQEBAQEBAQEBAQEBAQEBAQEBAQEB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"
>
</div>

</div>

</div>
</div>

</div>


     <!-- <hr/> -->
     <div class="row hidden-print">
      <div class="span12 text-center">
        <a href="#">Back to top</a>
      </div>
    </div>

     <!-- Footer
     ================================================== -->
      
      <footer class="footer hidden-print">
      <div class="span12 row-fluid footer-row">
          <div class="span4">
            <p>This web site does not host notebooks, it only renders notebooks available on other websites.</p>
          </div>

          <div class="span4">
            <p>Thanks to <a href="https://developer.rackspace.com/?nbviewer=awesome">Rackspace</a> for hosting.</p>
            <p>nbviewer GitHub <a href="https://github.com/jupyter/nbviewer">repository</a>.</p>
            <p>nbviewer <a href="https://github.com/jupyter/nbviewer/blob/master/LICENSE.txt" target="_blank">license</a>.</p>
          </div>

          <div class="span4">
            

              
                <p>
                    nbviewer version:
                    <a href="https://github.com/jupyter/nbviewer/commit/e98a70b28bff21af5e0381b7cbb97d4344ee6591">e98a70b</a>
                </p>
              
            

<p class="text-muted">
    IPython version: 2.4.0-maint
    
</p>


            

            

<p class="text-muted">
Rendered <span class='date' data-date='Wed, 07 Jan 2015 20:18:22 UTC' title='Wed, 07 Jan 2015 20:18:22 UTC'>(Wed, 07 Jan 2015 20:18:22 UTC)</span>
</p>


          </div>
      </div>
      </footer>
      

    </div><!-- /container -->

    <script src="/static/components/bootstrap/js/bootstrap.min.js"></script>
    <script src="/static/components/headroom.js/dist/headroom.min.js"></script>
    <script src="/static/components/headroom.js/dist/jQuery.headroom.min.js"></script>


    
    
    
    <script>
    $(document).ready(
                function(){
                    $("#menubar").headroom({
                        "tolerance": 5,
                        "offset": 205,
                        "classes": {
                            "initial": "animated",
                            "pinned": "slideInDown",
                            "unpinned": "slideOutUp"
                        }
                    })
                }
            );
    </script>


    <!-- Analytics
    ================================================== -->
    <script>
      (function(i,s,o,g,r,a,m){i['GoogleAnalyticsObject']=r;i[r]=i[r]||function(){
        (i[r].q=i[r].q||[]).push(arguments)},i[r].l=1*new Date();a=s.createElement(o),
        m=s.getElementsByTagName(o)[0];a.async=1;a.src=g;m.parentNode.insertBefore(a,m)
      })(window,document,'script','//www.google-analytics.com/analytics.js','ga');

      ga('create', 'UA-38683231-2', 'auto');
      ga('send', 'pageview');

    </script>
    <script>
        var update_date  = function(){
            var str = window.moment($('.date').data('date')).fromNow();
            $('.date').text(str);
        }
        setInterval(update_date , 61*1000);
        $(update_date);
    </script>
    <!--NEW RELIC Stop Perf Measurement-->
    
    <!--NEW RELIC End-->
  </body>
</html>